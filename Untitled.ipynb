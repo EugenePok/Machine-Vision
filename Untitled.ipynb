{
 "cells": [
  {
   "cell_type": "code",
   "execution_count": 1,
   "metadata": {},
   "outputs": [],
   "source": [
    "import os.path\n",
    "import time\n",
    "import numpy as np\n",
    "import pandas as pd\n",
    "from sklearn.decomposition import PCA\n",
    "from sklearn.neighbors import KNeighborsClassifier"
   ]
  },
  {
   "cell_type": "code",
   "execution_count": 2,
   "metadata": {},
   "outputs": [
    {
     "name": "stdout",
     "output_type": "stream",
     "text": [
      "load data finish\n",
      "load data time used:5.131304\n",
      "dimensionality reduction...\n",
      "[334780.59149447 245885.06513832 211051.62698822 184726.37342815\n",
      " 168070.0015068  147773.28274113 112534.61945611  99315.43743442\n",
      "  95016.01443299  80660.73018992  72091.28112172  70706.5372777\n",
      "  58466.0488886   58130.66595881  54296.21671756  50934.7635958\n",
      "  45318.36268187  44049.12048052  40795.35308887  39585.84244148\n",
      "  36819.27443543  34862.15972293  33134.94858928  31347.32791474\n",
      "  30481.77568809  28803.41321758  27879.30252896  26696.27853362\n",
      "  25433.56724803  23580.10141223  22595.24890274  21936.48003485\n",
      "  20582.39066703  20223.41162321  19379.38992382  18576.92336602\n",
      "  17486.78970718  16741.02306641  16331.15498464  16021.24495723\n",
      "  15554.48384975  15281.02243785  14362.97506646] \n",
      " [0.09748938 0.07160266 0.06145903 0.05379302 0.04894262 0.04303214\n",
      " 0.03277051 0.02892103 0.02766902 0.02348871 0.02099325 0.02059001\n",
      " 0.01702553 0.01692787 0.01581126 0.0148324  0.01319688 0.01282727\n",
      " 0.01187976 0.01152755 0.01072191 0.01015199 0.00964902 0.00912846\n",
      " 0.00887641 0.00838766 0.00811856 0.00777406 0.00740635 0.00686661\n",
      " 0.00657982 0.00638799 0.00599367 0.00588913 0.00564335 0.00540967\n",
      " 0.00509222 0.00487505 0.00475569 0.00466545 0.00452952 0.00444989\n",
      " 0.00418255] \n",
      " 43\n",
      "0.8003149736842461\n"
     ]
    }
   ],
   "source": [
    "data_dir = 'data/digit-recognizer/'\n",
    "\n",
    "# 加载数据\n",
    "def opencsv():\n",
    "    # 使用 pandas 打开\n",
    "    data = pd.read_csv(os.path.join(data_dir, 'train.csv'))\n",
    "    data1 = pd.read_csv(os.path.join(data_dir, 'test.csv'))\n",
    "\n",
    "    train_data = data.values[:, 1:]  # 读入全部训练数据,  [行，列]\n",
    "    train_label = data.values[:, 0]  # 读取列表的第一列\n",
    "    test_data = data1.values[:, 0:]  # 测试全部测试个数据\n",
    "    return train_data, train_label, test_data\n",
    "\n",
    "def knnClassify(trainData, trainLabel):\n",
    "    knnClf = KNeighborsClassifier()  \n",
    "    # default:k = 5,defined by yourself:KNeighborsClassifier(n_neighbors=10)\n",
    "    knnClf.fit(trainData, np.ravel(trainLabel))  \n",
    "    # ravel Return a contiguous flattened array.\n",
    "    return knnClf\n",
    "\n",
    "\n",
    "# 数据预处理-降维 PCA主成成分分析\n",
    "def dRPCA(x_train, x_test, COMPONENT_NUM):\n",
    "    print('dimensionality reduction...')\n",
    "    trainData = np.array(x_train)\n",
    "    testData = np.array(x_test)\n",
    "    '''\n",
    "    使用说明：https://www.cnblogs.com/pinard/p/6243025.html\n",
    "    n_components>=1\n",
    "      n_components=NUM  \b 设置\b占特征数量比\n",
    "    0 < n_components < 1\n",
    "      n_components=0.99  \b设置阈值总方差占比\n",
    "    '''\n",
    "    pca = PCA(n_components=COMPONENT_NUM, whiten=False)\n",
    "    pca.fit(trainData)  # Fit the model with X\n",
    "    pcaTrainData = pca.transform(trainData)  # Fit the model with X and 在X上完成降维.\n",
    "    pcaTestData = pca.transform(testData)  # Fit the model with X and 在X上完成降维.\n",
    "\n",
    "    # pca 方差大小、方差占比、特征数量\n",
    "    print(pca.explained_variance_, '\\n', pca.explained_variance_ratio_, '\\n',\n",
    "          pca.n_components_)\n",
    "    print(sum(pca.explained_variance_ratio_))\n",
    "    return pcaTrainData, pcaTestData\n",
    "\n",
    "start_time = time.time()\n",
    "\n",
    "# 加载数据\n",
    "trainData, trainLabel, testData = opencsv()\n",
    "# print(\"trainData==>\", type(trainData), shape(trainData))\n",
    "# print(\"trainLabel==>\", type(trainLabel), shape(trainLabel))\n",
    "# print(\"testData==>\", type(testData), shape(testData))\n",
    "print(\"load data finish\")\n",
    "stop_time_l = time.time()\n",
    "print('load data time used:%f' % (stop_time_l - start_time))\n",
    "\n",
    "# 降维处理\n",
    "trainData, testData = dRPCA(trainData, testData, 0.8)\n",
    "\n",
    "# 模型训练\n",
    "knnClf = knnClassify(trainData, trainLabel)\n",
    "\n",
    "# 结果预测\n",
    "testLabel = knnClf.predict(testData)"
   ]
  },
  {
   "cell_type": "code",
   "execution_count": 5,
   "metadata": {},
   "outputs": [],
   "source": [
    "testLabel = pd.Series(testLabel,name=\"Label\")\n",
    "submission = pd.concat([pd.Series(range(1,28001),name = \"ImageId\"),testLabel],axis = 1)\n",
    "submission.to_csv(\"output/digit-recognizer/sklearn_knn.csv\",index=False)"
   ]
  }
 ],
 "metadata": {
  "kernelspec": {
   "display_name": "Python [conda env:tensorflow]",
   "language": "python",
   "name": "conda-env-tensorflow-py"
  },
  "language_info": {
   "codemirror_mode": {
    "name": "ipython",
    "version": 3
   },
   "file_extension": ".py",
   "mimetype": "text/x-python",
   "name": "python",
   "nbconvert_exporter": "python",
   "pygments_lexer": "ipython3",
   "version": "3.6.8"
  }
 },
 "nbformat": 4,
 "nbformat_minor": 2
}
